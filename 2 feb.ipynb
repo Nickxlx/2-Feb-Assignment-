{
 "cells": [
  {
   "cell_type": "markdown",
   "id": "f0889e94-c304-4b7d-8351-351bb263e3d7",
   "metadata": {},
   "source": [
    "Q1.  Explain with an example each when to use a for loop and a while loop. \n",
    "\n",
    "Answer --> \n",
    "for loop :-  When we already knows the no. of iterations in that case we use for loop"
   ]
  },
  {
   "cell_type": "code",
   "execution_count": 1,
   "id": "2b1e4b79-0399-4dee-ad30-bb372634e222",
   "metadata": {},
   "outputs": [
    {
     "name": "stdout",
     "output_type": "stream",
     "text": [
      "1\n",
      "4\n",
      "9\n",
      "16\n",
      "25\n",
      "36\n",
      "49\n"
     ]
    }
   ],
   "source": [
    "# for Example :- \n",
    "l = [1,2,3,4,5,6,7]\n",
    "for i in l :\n",
    "    print(i**2)"
   ]
  },
  {
   "cell_type": "markdown",
   "id": "184867b2-6fe3-42dc-be3f-becdf0760e75",
   "metadata": {},
   "source": [
    "while loop :-  whereas in the case of the while loop number of iterations is unknown and the statement will run until the condition is proved false."
   ]
  },
  {
   "cell_type": "code",
   "execution_count": 2,
   "id": "25f39125-8d05-4e95-bb52-1540de096440",
   "metadata": {},
   "outputs": [
    {
     "name": "stdout",
     "output_type": "stream",
     "text": [
      "0\n",
      "1\n",
      "4\n",
      "9\n",
      "16\n",
      "25\n",
      "36\n"
     ]
    }
   ],
   "source": [
    "# for Example :- \n",
    "i = 0\n",
    "while i<7 :\n",
    "    print(i**2)\n",
    "    i+=1"
   ]
  },
  {
   "cell_type": "code",
   "execution_count": null,
   "id": "0c4ea032-e458-4992-9083-183cb05547dc",
   "metadata": {},
   "outputs": [],
   "source": []
  },
  {
   "cell_type": "code",
   "execution_count": null,
   "id": "29cec17a-cea8-4123-a670-2ec1fead4804",
   "metadata": {},
   "outputs": [],
   "source": []
  },
  {
   "cell_type": "markdown",
   "id": "f09f3aed-f66f-48d5-96a2-f9ba4efd61c2",
   "metadata": {},
   "source": [
    "Q2.  Write a python program to print the sum and product of the first 10 natural numbers using for and while loop. \n"
   ]
  },
  {
   "cell_type": "code",
   "execution_count": 3,
   "id": "677e3435-deb5-4e18-94f9-61f722520e31",
   "metadata": {},
   "outputs": [
    {
     "data": {
      "text/plain": [
       "<function sum(iterable, /, start=0)>"
      ]
     },
     "execution_count": 3,
     "metadata": {},
     "output_type": "execute_result"
    }
   ],
   "source": [
    "# sum of first 10 natural no \n",
    "s = 0 \n",
    "for i in range (1,11):\n",
    "    s = s+i\n",
    "sum"
   ]
  },
  {
   "cell_type": "code",
   "execution_count": 4,
   "id": "9e0253be-ff35-4785-a80c-1d7a7522908f",
   "metadata": {},
   "outputs": [
    {
     "data": {
      "text/plain": [
       "3628800"
      ]
     },
     "execution_count": 4,
     "metadata": {},
     "output_type": "execute_result"
    }
   ],
   "source": [
    "# Product of first 10 natural no \n",
    "n=1\n",
    "pro = 1\n",
    "while n<=10: \n",
    "    pro = pro * n\n",
    "    n+=1\n",
    "pro"
   ]
  },
  {
   "cell_type": "code",
   "execution_count": null,
   "id": "57b09b1f-ba8b-42c1-b206-ac28e711f0fa",
   "metadata": {},
   "outputs": [],
   "source": []
  },
  {
   "cell_type": "code",
   "execution_count": null,
   "id": "b97de1f2-ac7f-4cdc-b528-a81e8ca457a1",
   "metadata": {},
   "outputs": [],
   "source": []
  },
  {
   "cell_type": "markdown",
   "id": "b409bed1-dd7c-427e-8de2-4d9392708d35",
   "metadata": {},
   "source": [
    "Q3. Create a python program to compute the electricity bill for a household. \n",
    "The per-unit charges in rupees are as follows: For the first 100 units, the user will be charged Rs. 4.5 per  unit, for the next 100 units, the user will be charged Rs. 6 per unit, and for the next 100 units, the user will  be charged Rs. 10 per unit, After 300 units and above the user will be charged Rs. 20 per unit. "
   ]
  },
  {
   "cell_type": "code",
   "execution_count": null,
   "id": "ef99df09-4d3f-4384-b16d-00ddf02d72ff",
   "metadata": {},
   "outputs": [],
   "source": [
    "units = int(input(\"Enter your electricity consumed in a month : \"))\n",
    "bill= 0\n",
    "if units <=100:\n",
    "    bill = bill + units*4.5\n",
    "elif units > 100 and units <= 200:\n",
    "    bill = 450 + (units-100)*6\n",
    "elif units >200 and units <=300:\n",
    "    bill = 450 + 600 + (unit-200)*10\n",
    "else:\n",
    "    bill = 450 + 600 + 1000 + (units-300)*20\n",
    "\n",
    "print(\"Your This Months Electricity Bill is :\", bill)\n",
    "    "
   ]
  },
  {
   "cell_type": "code",
   "execution_count": null,
   "id": "323f0cf2-c651-4774-8f1c-ffcd789b61b5",
   "metadata": {},
   "outputs": [],
   "source": []
  },
  {
   "cell_type": "code",
   "execution_count": null,
   "id": "93e45d83-4bf8-4dae-a49a-35553b005101",
   "metadata": {},
   "outputs": [],
   "source": []
  },
  {
   "cell_type": "markdown",
   "id": "59b50056-31ec-4ff9-a766-6ac87c72d5f5",
   "metadata": {},
   "source": [
    "Q4. Create a list of numbers from 1 to 100. Use for loop and while loop to calculate the cube of each number and if the cube of that number is divisible by 4 or 5 then append that number in a list and print  that list. "
   ]
  },
  {
   "cell_type": "code",
   "execution_count": null,
   "id": "b24ef4ed-941a-421f-b492-e4485a8ba50d",
   "metadata": {},
   "outputs": [],
   "source": [
    "l = []\n",
    "fl= []\n",
    "for i in range (1,101):\n",
    "    l.append(i)\n",
    "    \n",
    "for i in l:\n",
    "    c = i**3\n",
    "    if (c%4==0 or c%5==0) :\n",
    "        fl.append(i)\n",
    "fl\n",
    "    "
   ]
  },
  {
   "cell_type": "code",
   "execution_count": null,
   "id": "2101fa0d-334f-46bd-9ba1-e96972f4bbd1",
   "metadata": {},
   "outputs": [],
   "source": []
  },
  {
   "cell_type": "markdown",
   "id": "f99a85d5-f922-43c7-a5d4-05ad047ebe65",
   "metadata": {},
   "source": [
    "Q5.  Write a program to filter count vowels in the below-given string. \n",
    "string = \"I want to become a data scientist\" "
   ]
  },
  {
   "cell_type": "code",
   "execution_count": null,
   "id": "5731e68a-6039-4741-b920-2e60bf6beee6",
   "metadata": {},
   "outputs": [],
   "source": [
    "string = \"I want to become a data scientist\" \n",
    "string=string.lower()\n",
    "c=0\n",
    "for i in string:\n",
    "    if (i=='a'or i== 'e' or i=='i' or i=='o'or i=='u'): \n",
    "        c+=1\n",
    "print(\"No of vowels in the string is \",c)"
   ]
  },
  {
   "cell_type": "code",
   "execution_count": null,
   "id": "4da0b10e-a592-4422-9173-3cef2540d43a",
   "metadata": {},
   "outputs": [],
   "source": []
  }
 ],
 "metadata": {
  "kernelspec": {
   "display_name": "Python 3 (ipykernel)",
   "language": "python",
   "name": "python3"
  },
  "language_info": {
   "codemirror_mode": {
    "name": "ipython",
    "version": 3
   },
   "file_extension": ".py",
   "mimetype": "text/x-python",
   "name": "python",
   "nbconvert_exporter": "python",
   "pygments_lexer": "ipython3",
   "version": "3.10.8"
  }
 },
 "nbformat": 4,
 "nbformat_minor": 5
}
